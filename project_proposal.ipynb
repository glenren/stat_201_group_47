{
 "cells": [
  {
   "cell_type": "code",
   "execution_count": 1,
   "id": "10be41eb-e892-41e1-83dc-99c9d58ad6f5",
   "metadata": {},
   "outputs": [
    {
     "name": "stderr",
     "output_type": "stream",
     "text": [
      "── \u001b[1mAttaching packages\u001b[22m ─────────────────────────────────────── tidyverse 1.3.2 ──\n",
      "\u001b[32m✔\u001b[39m \u001b[34mggplot2\u001b[39m 3.3.6      \u001b[32m✔\u001b[39m \u001b[34mpurrr  \u001b[39m 0.3.4 \n",
      "\u001b[32m✔\u001b[39m \u001b[34mtibble \u001b[39m 3.1.8      \u001b[32m✔\u001b[39m \u001b[34mdplyr  \u001b[39m 1.0.10\n",
      "\u001b[32m✔\u001b[39m \u001b[34mtidyr  \u001b[39m 1.2.1      \u001b[32m✔\u001b[39m \u001b[34mstringr\u001b[39m 1.4.1 \n",
      "\u001b[32m✔\u001b[39m \u001b[34mreadr  \u001b[39m 2.1.2      \u001b[32m✔\u001b[39m \u001b[34mforcats\u001b[39m 0.5.2 \n",
      "── \u001b[1mConflicts\u001b[22m ────────────────────────────────────────── tidyverse_conflicts() ──\n",
      "\u001b[31m✖\u001b[39m \u001b[34mdplyr\u001b[39m::\u001b[32mfilter()\u001b[39m masks \u001b[34mstats\u001b[39m::filter()\n",
      "\u001b[31m✖\u001b[39m \u001b[34mdplyr\u001b[39m::\u001b[32mlag()\u001b[39m    masks \u001b[34mstats\u001b[39m::lag()\n"
     ]
    }
   ],
   "source": [
    "library(infer)\n",
    "library(tidyverse)"
   ]
  },
  {
   "cell_type": "code",
   "execution_count": 11,
   "id": "ab3b0ad5-190c-4112-88d4-674f548871f2",
   "metadata": {},
   "outputs": [
    {
     "data": {
      "text/html": [
       "<table class=\"dataframe\">\n",
       "<caption>A data.frame: 6 × 15</caption>\n",
       "<thead>\n",
       "\t<tr><th></th><th scope=col>age</th><th scope=col>sex</th><th scope=col>chest_pain_type</th><th scope=col>rest_bps</th><th scope=col>chol</th><th scope=col>fbs_over_120</th><th scope=col>rest_ecg</th><th scope=col>max_heart_rate</th><th scope=col>ex_ang</th><th scope=col>old_peak</th><th scope=col>slope</th><th scope=col>ca</th><th scope=col>thal</th><th scope=col>diagnosis</th><th scope=col>region</th></tr>\n",
       "\t<tr><th></th><th scope=col>&lt;dbl&gt;</th><th scope=col>&lt;dbl&gt;</th><th scope=col>&lt;dbl&gt;</th><th scope=col>&lt;chr&gt;</th><th scope=col>&lt;chr&gt;</th><th scope=col>&lt;chr&gt;</th><th scope=col>&lt;chr&gt;</th><th scope=col>&lt;chr&gt;</th><th scope=col>&lt;chr&gt;</th><th scope=col>&lt;chr&gt;</th><th scope=col>&lt;chr&gt;</th><th scope=col>&lt;chr&gt;</th><th scope=col>&lt;chr&gt;</th><th scope=col>&lt;int&gt;</th><th scope=col>&lt;chr&gt;</th></tr>\n",
       "</thead>\n",
       "<tbody>\n",
       "\t<tr><th scope=row>1</th><td>63</td><td>1</td><td>1</td><td>145</td><td>233</td><td>1</td><td>2</td><td>150</td><td>0</td><td>2.3</td><td>3</td><td>0.0</td><td>6.0</td><td>0</td><td>CL</td></tr>\n",
       "\t<tr><th scope=row>2</th><td>67</td><td>1</td><td>4</td><td>160</td><td>286</td><td>0</td><td>2</td><td>108</td><td>1</td><td>1.5</td><td>2</td><td>3.0</td><td>3.0</td><td>2</td><td>CL</td></tr>\n",
       "\t<tr><th scope=row>3</th><td>67</td><td>1</td><td>4</td><td>120</td><td>229</td><td>0</td><td>2</td><td>129</td><td>1</td><td>2.6</td><td>2</td><td>2.0</td><td>7.0</td><td>1</td><td>CL</td></tr>\n",
       "\t<tr><th scope=row>4</th><td>37</td><td>1</td><td>3</td><td>130</td><td>250</td><td>0</td><td>0</td><td>187</td><td>0</td><td>3.5</td><td>3</td><td>0.0</td><td>3.0</td><td>0</td><td>CL</td></tr>\n",
       "\t<tr><th scope=row>5</th><td>41</td><td>0</td><td>2</td><td>130</td><td>204</td><td>0</td><td>2</td><td>172</td><td>0</td><td>1.4</td><td>1</td><td>0.0</td><td>3.0</td><td>0</td><td>CL</td></tr>\n",
       "\t<tr><th scope=row>6</th><td>56</td><td>1</td><td>2</td><td>120</td><td>236</td><td>0</td><td>0</td><td>178</td><td>0</td><td>0.8</td><td>1</td><td>0.0</td><td>3.0</td><td>0</td><td>CL</td></tr>\n",
       "</tbody>\n",
       "</table>\n"
      ],
      "text/latex": [
       "A data.frame: 6 × 15\n",
       "\\begin{tabular}{r|lllllllllllllll}\n",
       "  & age & sex & chest\\_pain\\_type & rest\\_bps & chol & fbs\\_over\\_120 & rest\\_ecg & max\\_heart\\_rate & ex\\_ang & old\\_peak & slope & ca & thal & diagnosis & region\\\\\n",
       "  & <dbl> & <dbl> & <dbl> & <chr> & <chr> & <chr> & <chr> & <chr> & <chr> & <chr> & <chr> & <chr> & <chr> & <int> & <chr>\\\\\n",
       "\\hline\n",
       "\t1 & 63 & 1 & 1 & 145 & 233 & 1 & 2 & 150 & 0 & 2.3 & 3 & 0.0 & 6.0 & 0 & CL\\\\\n",
       "\t2 & 67 & 1 & 4 & 160 & 286 & 0 & 2 & 108 & 1 & 1.5 & 2 & 3.0 & 3.0 & 2 & CL\\\\\n",
       "\t3 & 67 & 1 & 4 & 120 & 229 & 0 & 2 & 129 & 1 & 2.6 & 2 & 2.0 & 7.0 & 1 & CL\\\\\n",
       "\t4 & 37 & 1 & 3 & 130 & 250 & 0 & 0 & 187 & 0 & 3.5 & 3 & 0.0 & 3.0 & 0 & CL\\\\\n",
       "\t5 & 41 & 0 & 2 & 130 & 204 & 0 & 2 & 172 & 0 & 1.4 & 1 & 0.0 & 3.0 & 0 & CL\\\\\n",
       "\t6 & 56 & 1 & 2 & 120 & 236 & 0 & 0 & 178 & 0 & 0.8 & 1 & 0.0 & 3.0 & 0 & CL\\\\\n",
       "\\end{tabular}\n"
      ],
      "text/markdown": [
       "\n",
       "A data.frame: 6 × 15\n",
       "\n",
       "| <!--/--> | age &lt;dbl&gt; | sex &lt;dbl&gt; | chest_pain_type &lt;dbl&gt; | rest_bps &lt;chr&gt; | chol &lt;chr&gt; | fbs_over_120 &lt;chr&gt; | rest_ecg &lt;chr&gt; | max_heart_rate &lt;chr&gt; | ex_ang &lt;chr&gt; | old_peak &lt;chr&gt; | slope &lt;chr&gt; | ca &lt;chr&gt; | thal &lt;chr&gt; | diagnosis &lt;int&gt; | region &lt;chr&gt; |\n",
       "|---|---|---|---|---|---|---|---|---|---|---|---|---|---|---|---|\n",
       "| 1 | 63 | 1 | 1 | 145 | 233 | 1 | 2 | 150 | 0 | 2.3 | 3 | 0.0 | 6.0 | 0 | CL |\n",
       "| 2 | 67 | 1 | 4 | 160 | 286 | 0 | 2 | 108 | 1 | 1.5 | 2 | 3.0 | 3.0 | 2 | CL |\n",
       "| 3 | 67 | 1 | 4 | 120 | 229 | 0 | 2 | 129 | 1 | 2.6 | 2 | 2.0 | 7.0 | 1 | CL |\n",
       "| 4 | 37 | 1 | 3 | 130 | 250 | 0 | 0 | 187 | 0 | 3.5 | 3 | 0.0 | 3.0 | 0 | CL |\n",
       "| 5 | 41 | 0 | 2 | 130 | 204 | 0 | 2 | 172 | 0 | 1.4 | 1 | 0.0 | 3.0 | 0 | CL |\n",
       "| 6 | 56 | 1 | 2 | 120 | 236 | 0 | 0 | 178 | 0 | 0.8 | 1 | 0.0 | 3.0 | 0 | CL |\n",
       "\n"
      ],
      "text/plain": [
       "  age sex chest_pain_type rest_bps chol fbs_over_120 rest_ecg max_heart_rate\n",
       "1 63  1   1               145      233  1            2        150           \n",
       "2 67  1   4               160      286  0            2        108           \n",
       "3 67  1   4               120      229  0            2        129           \n",
       "4 37  1   3               130      250  0            0        187           \n",
       "5 41  0   2               130      204  0            2        172           \n",
       "6 56  1   2               120      236  0            0        178           \n",
       "  ex_ang old_peak slope ca  thal diagnosis region\n",
       "1 0      2.3      3     0.0 6.0  0         CL    \n",
       "2 1      1.5      2     3.0 3.0  2         CL    \n",
       "3 1      2.6      2     2.0 7.0  1         CL    \n",
       "4 0      3.5      3     0.0 3.0  0         CL    \n",
       "5 0      1.4      1     0.0 3.0  0         CL    \n",
       "6 0      0.8      1     0.0 3.0  0         CL    "
      ]
     },
     "metadata": {},
     "output_type": "display_data"
    }
   ],
   "source": [
    "cl <- read.csv(\"https://archive.ics.uci.edu/ml/machine-learning-databases/heart-disease/processed.cleveland.data\", header = FALSE) %>%\n",
    "    mutate(region = \"CL\")\n",
    "hg <- read.csv(\"https://archive.ics.uci.edu/ml/machine-learning-databases/heart-disease/processed.hungarian.data\", header = FALSE) %>%\n",
    "    mutate(region = \"HA\")\n",
    "va <- read.csv(\"https://archive.ics.uci.edu/ml/machine-learning-databases/heart-disease/processed.va.data\", header = FALSE) %>%\n",
    "    mutate(region = \"VA\")\n",
    "sw <- read.csv(\"https://archive.ics.uci.edu/ml/machine-learning-databases/heart-disease/processed.switzerland.data\", header = FALSE) %>%\n",
    "    mutate(region = \"SW\")\n",
    "data <- rbind(cl, hg, va, sw) %>%\n",
    "    rename(\n",
    "        age = V1,\n",
    "        sex = V2,\n",
    "        chest_pain_type = V3,\n",
    "        rest_bps = V4,\n",
    "        chol = V5,\n",
    "        fbs_over_120 = V6,\n",
    "        rest_ecg = V7,\n",
    "        max_heart_rate = V8,\n",
    "        ex_ang = V9,\n",
    "        old_peak = V10,\n",
    "        slope = V11,\n",
    "        ca = V12,\n",
    "        thal = V13,\n",
    "        diagnosis = V14\n",
    "    )\n",
    "\n",
    "head(data)"
   ]
  },
  {
   "cell_type": "code",
   "execution_count": 13,
   "id": "f4c38fa8-7be6-4d77-bbe5-b19edec3843e",
   "metadata": {},
   "outputs": [
    {
     "data": {
      "text/html": [
       "<table class=\"dataframe\">\n",
       "<caption>A data.frame: 6 × 15</caption>\n",
       "<thead>\n",
       "\t<tr><th></th><th scope=col>age</th><th scope=col>sex</th><th scope=col>chest_pain_type</th><th scope=col>rest_bps</th><th scope=col>chol</th><th scope=col>fbs_over_120</th><th scope=col>rest_ecg</th><th scope=col>max_heart_rate</th><th scope=col>ex_ang</th><th scope=col>old_peak</th><th scope=col>slope</th><th scope=col>ca</th><th scope=col>thal</th><th scope=col>diagnosis</th><th scope=col>region</th></tr>\n",
       "\t<tr><th></th><th scope=col>&lt;dbl&gt;</th><th scope=col>&lt;chr&gt;</th><th scope=col>&lt;chr&gt;</th><th scope=col>&lt;chr&gt;</th><th scope=col>&lt;chr&gt;</th><th scope=col>&lt;chr&gt;</th><th scope=col>&lt;chr&gt;</th><th scope=col>&lt;chr&gt;</th><th scope=col>&lt;chr&gt;</th><th scope=col>&lt;chr&gt;</th><th scope=col>&lt;chr&gt;</th><th scope=col>&lt;chr&gt;</th><th scope=col>&lt;chr&gt;</th><th scope=col>&lt;int&gt;</th><th scope=col>&lt;chr&gt;</th></tr>\n",
       "</thead>\n",
       "<tbody>\n",
       "\t<tr><th scope=row>1</th><td>63</td><td>Male  </td><td>Typical Angina  </td><td>145</td><td>233</td><td>True </td><td>Left Ventricular Hypertrophy</td><td>150</td><td>No </td><td>2.3</td><td>3</td><td>0.0</td><td>6.0</td><td>0</td><td>CL</td></tr>\n",
       "\t<tr><th scope=row>2</th><td>67</td><td>Male  </td><td>Asymptomatic    </td><td>160</td><td>286</td><td>False</td><td>Left Ventricular Hypertrophy</td><td>108</td><td>Yes</td><td>1.5</td><td>2</td><td>3.0</td><td>3.0</td><td>2</td><td>CL</td></tr>\n",
       "\t<tr><th scope=row>3</th><td>67</td><td>Male  </td><td>Asymptomatic    </td><td>120</td><td>229</td><td>False</td><td>Left Ventricular Hypertrophy</td><td>129</td><td>Yes</td><td>2.6</td><td>2</td><td>2.0</td><td>7.0</td><td>1</td><td>CL</td></tr>\n",
       "\t<tr><th scope=row>4</th><td>37</td><td>Male  </td><td>Non-Anginal Pain</td><td>130</td><td>250</td><td>False</td><td>Normal                      </td><td>187</td><td>No </td><td>3.5</td><td>3</td><td>0.0</td><td>3.0</td><td>0</td><td>CL</td></tr>\n",
       "\t<tr><th scope=row>5</th><td>41</td><td>Female</td><td>Atypical Angina </td><td>130</td><td>204</td><td>False</td><td>Left Ventricular Hypertrophy</td><td>172</td><td>No </td><td>1.4</td><td>1</td><td>0.0</td><td>3.0</td><td>0</td><td>CL</td></tr>\n",
       "\t<tr><th scope=row>6</th><td>56</td><td>Male  </td><td>Atypical Angina </td><td>120</td><td>236</td><td>False</td><td>Normal                      </td><td>178</td><td>No </td><td>0.8</td><td>1</td><td>0.0</td><td>3.0</td><td>0</td><td>CL</td></tr>\n",
       "</tbody>\n",
       "</table>\n"
      ],
      "text/latex": [
       "A data.frame: 6 × 15\n",
       "\\begin{tabular}{r|lllllllllllllll}\n",
       "  & age & sex & chest\\_pain\\_type & rest\\_bps & chol & fbs\\_over\\_120 & rest\\_ecg & max\\_heart\\_rate & ex\\_ang & old\\_peak & slope & ca & thal & diagnosis & region\\\\\n",
       "  & <dbl> & <chr> & <chr> & <chr> & <chr> & <chr> & <chr> & <chr> & <chr> & <chr> & <chr> & <chr> & <chr> & <int> & <chr>\\\\\n",
       "\\hline\n",
       "\t1 & 63 & Male   & Typical Angina   & 145 & 233 & True  & Left Ventricular Hypertrophy & 150 & No  & 2.3 & 3 & 0.0 & 6.0 & 0 & CL\\\\\n",
       "\t2 & 67 & Male   & Asymptomatic     & 160 & 286 & False & Left Ventricular Hypertrophy & 108 & Yes & 1.5 & 2 & 3.0 & 3.0 & 2 & CL\\\\\n",
       "\t3 & 67 & Male   & Asymptomatic     & 120 & 229 & False & Left Ventricular Hypertrophy & 129 & Yes & 2.6 & 2 & 2.0 & 7.0 & 1 & CL\\\\\n",
       "\t4 & 37 & Male   & Non-Anginal Pain & 130 & 250 & False & Normal                       & 187 & No  & 3.5 & 3 & 0.0 & 3.0 & 0 & CL\\\\\n",
       "\t5 & 41 & Female & Atypical Angina  & 130 & 204 & False & Left Ventricular Hypertrophy & 172 & No  & 1.4 & 1 & 0.0 & 3.0 & 0 & CL\\\\\n",
       "\t6 & 56 & Male   & Atypical Angina  & 120 & 236 & False & Normal                       & 178 & No  & 0.8 & 1 & 0.0 & 3.0 & 0 & CL\\\\\n",
       "\\end{tabular}\n"
      ],
      "text/markdown": [
       "\n",
       "A data.frame: 6 × 15\n",
       "\n",
       "| <!--/--> | age &lt;dbl&gt; | sex &lt;chr&gt; | chest_pain_type &lt;chr&gt; | rest_bps &lt;chr&gt; | chol &lt;chr&gt; | fbs_over_120 &lt;chr&gt; | rest_ecg &lt;chr&gt; | max_heart_rate &lt;chr&gt; | ex_ang &lt;chr&gt; | old_peak &lt;chr&gt; | slope &lt;chr&gt; | ca &lt;chr&gt; | thal &lt;chr&gt; | diagnosis &lt;int&gt; | region &lt;chr&gt; |\n",
       "|---|---|---|---|---|---|---|---|---|---|---|---|---|---|---|---|\n",
       "| 1 | 63 | Male   | Typical Angina   | 145 | 233 | True  | Left Ventricular Hypertrophy | 150 | No  | 2.3 | 3 | 0.0 | 6.0 | 0 | CL |\n",
       "| 2 | 67 | Male   | Asymptomatic     | 160 | 286 | False | Left Ventricular Hypertrophy | 108 | Yes | 1.5 | 2 | 3.0 | 3.0 | 2 | CL |\n",
       "| 3 | 67 | Male   | Asymptomatic     | 120 | 229 | False | Left Ventricular Hypertrophy | 129 | Yes | 2.6 | 2 | 2.0 | 7.0 | 1 | CL |\n",
       "| 4 | 37 | Male   | Non-Anginal Pain | 130 | 250 | False | Normal                       | 187 | No  | 3.5 | 3 | 0.0 | 3.0 | 0 | CL |\n",
       "| 5 | 41 | Female | Atypical Angina  | 130 | 204 | False | Left Ventricular Hypertrophy | 172 | No  | 1.4 | 1 | 0.0 | 3.0 | 0 | CL |\n",
       "| 6 | 56 | Male   | Atypical Angina  | 120 | 236 | False | Normal                       | 178 | No  | 0.8 | 1 | 0.0 | 3.0 | 0 | CL |\n",
       "\n"
      ],
      "text/plain": [
       "  age sex    chest_pain_type  rest_bps chol fbs_over_120\n",
       "1 63  Male   Typical Angina   145      233  True        \n",
       "2 67  Male   Asymptomatic     160      286  False       \n",
       "3 67  Male   Asymptomatic     120      229  False       \n",
       "4 37  Male   Non-Anginal Pain 130      250  False       \n",
       "5 41  Female Atypical Angina  130      204  False       \n",
       "6 56  Male   Atypical Angina  120      236  False       \n",
       "  rest_ecg                     max_heart_rate ex_ang old_peak slope ca  thal\n",
       "1 Left Ventricular Hypertrophy 150            No     2.3      3     0.0 6.0 \n",
       "2 Left Ventricular Hypertrophy 108            Yes    1.5      2     3.0 3.0 \n",
       "3 Left Ventricular Hypertrophy 129            Yes    2.6      2     2.0 7.0 \n",
       "4 Normal                       187            No     3.5      3     0.0 3.0 \n",
       "5 Left Ventricular Hypertrophy 172            No     1.4      1     0.0 3.0 \n",
       "6 Normal                       178            No     0.8      1     0.0 3.0 \n",
       "  diagnosis region\n",
       "1 0         CL    \n",
       "2 2         CL    \n",
       "3 1         CL    \n",
       "4 0         CL    \n",
       "5 0         CL    \n",
       "6 0         CL    "
      ]
     },
     "metadata": {},
     "output_type": "display_data"
    }
   ],
   "source": [
    "data$sex[data$sex == 1] <- \"Male\"\n",
    "data$sex[data$sex == 0] <- \"Female\"\n",
    "\n",
    "data$chest_pain_type[data$chest_pain_type == 1] <- \"Typical Angina\"\n",
    "data$chest_pain_type[data$chest_pain_type == 2] <- \"Atypical Angina\"\n",
    "data$chest_pain_type[data$chest_pain_type == 3] <- \"Non-Anginal Pain\"\n",
    "data$chest_pain_type[data$chest_pain_type == 4] <- \"Asymptomatic\"\n",
    "\n",
    "data$fbs_over_120[data$fbs_over_120 == 0] <- \"False\"\n",
    "data$fbs_over_120[data$fbs_over_120 == 1] <- \"True\"\n",
    "\n",
    "data$rest_ecg[data$rest_ecg == 0] <- \"Normal\"\n",
    "data$rest_ecg[data$rest_ecg == 1] <- \"ST-T Wave Abnormality\"\n",
    "data$rest_ecg[data$rest_ecg == 2] <- \"Left Ventricular Hypertrophy\"\n",
    "\n",
    "data$ex_ang[data$ex_ang == 0] <- \"No\"\n",
    "data$ex_ang[data$ex_ang == 1] <- \"Yes\"\n",
    "\n",
    "head(data)"
   ]
  }
 ],
 "metadata": {
  "kernelspec": {
   "display_name": "R",
   "language": "R",
   "name": "ir"
  },
  "language_info": {
   "codemirror_mode": "r",
   "file_extension": ".r",
   "mimetype": "text/x-r-source",
   "name": "R",
   "pygments_lexer": "r",
   "version": "4.1.3"
  }
 },
 "nbformat": 4,
 "nbformat_minor": 5
}
